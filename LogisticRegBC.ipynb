{
 "cells": [
  {
   "cell_type": "code",
   "execution_count": 1,
   "metadata": {},
   "outputs": [],
   "source": [
    "import pandas as pd\n",
    "import seaborn as sns\n",
    "import matplotlib.pyplot as plt\n",
    "import numpy as np\n",
    "\n",
    "#SKLearn library and its functions\n",
    "from sklearn.datasets import load_iris\n",
    "from sklearn.linear_model import LogisticRegression\n",
    "from sklearn.model_selection import train_test_split\n",
    "from sklearn.metrics import accuracy_score, classification_report, confusion_matrix\n",
    "from sklearn.preprocessing import StandardScaler"
   ]
  },
  {
   "cell_type": "code",
   "execution_count": null,
   "metadata": {},
   "outputs": [],
   "source": [
    "#Open the Dataframe\n",
    "df = pd.read_csv('breast-cancer.csv')\n",
    "df = df.drop(['id'], axis=1)\n",
    "\n",
    "df.head()"
   ]
  },
  {
   "cell_type": "code",
   "execution_count": null,
   "metadata": {},
   "outputs": [],
   "source": [
    "#Filter out the data so the amount of samples of M and B are the same(creating blaance)\n",
    "n = 357-212 \n",
    "\n",
    "filter_B = df[df['diagnosis']=='B']\n",
    "filter_B = filter_B.drop(filter_B.sample(n).index).reset_index(drop=True)\n",
    "\n",
    "filter_M = df[df['diagnosis']=='M']\n",
    "\n",
    "df = pd.concat([filter_M, filter_B])\n",
    "\n",
    "\n",
    "df['diagnosis'].value_counts()"
   ]
  },
  {
   "cell_type": "code",
   "execution_count": 4,
   "metadata": {},
   "outputs": [],
   "source": [
    "# Drop the column that is the one you are trying to predict\n",
    "\n",
    "class_col = df.columns[0]\n",
    "\n",
    "X, y = df.drop(columns=[class_col]), df[class_col]\n",
    "\n",
    "\n"
   ]
  },
  {
   "cell_type": "code",
   "execution_count": 5,
   "metadata": {},
   "outputs": [],
   "source": [
    "#Split the data with 30% test size\n",
    "X_train, X_test, y_train, y_test = train_test_split(X, y, test_size=0.3,\n",
    "                                                    random_state=42)"
   ]
  },
  {
   "cell_type": "code",
   "execution_count": 6,
   "metadata": {},
   "outputs": [],
   "source": [
    "scaler = StandardScaler()\n",
    "scaler.fit(X_train)\n",
    "\n",
    "X_train = scaler.transform(X_train)\n",
    "X_test  = scaler.transform(X_test)"
   ]
  },
  {
   "cell_type": "code",
   "execution_count": null,
   "metadata": {},
   "outputs": [],
   "source": [
    "#Perform the logisitic regression\n",
    "solver = ['newton-cg', 'lbfgs', 'liblinear', 'sag', 'saga']\n",
    "\n",
    "models = []\n",
    "\n",
    "for i in solver:\n",
    "    log_reg = LogisticRegression(solver=i)\n",
    "    log_reg.fit(X_train,y_train)\n",
    "    \n",
    "    models.append(log_reg)"
   ]
  },
  {
   "cell_type": "code",
   "execution_count": null,
   "metadata": {},
   "outputs": [],
   "source": [
    "#Confusion Matrix and the Classification reports for all the models\n",
    "for ind, model in enumerate(models):\n",
    "    y_pred = model.predict(X_test)\n",
    "\n",
    "    print(f'Confusion matrix for the model: {solver[ind]}')\n",
    "    conf_mat = confusion_matrix(y_test, y_pred)\n",
    "    print(conf_mat)\n",
    "\n",
    "    print(f'Classification report for the model: {solver[ind]}')\n",
    "    report = classification_report(y_test, y_pred, target_names=['benign', 'malignant'])\n",
    "    print(report)\n",
    "\n"
   ]
  },
  {
   "cell_type": "code",
   "execution_count": null,
   "metadata": {},
   "outputs": [],
   "source": [
    "# Plotting the Heatmap\n",
    "df_rep = df.replace(to_replace = ['M','B'], value = [0,1])\n",
    "\n",
    "\n",
    "\n",
    "corr_matrix = df_rep[df_rep.columns[:10]].corr()\n",
    "\n",
    "axis_corr = sns.heatmap(\n",
    "corr_matrix,\n",
    "vmin=-1, vmax=1, center=0,\n",
    "cmap=sns.diverging_palette(50, 500, n=500),\n",
    "square=False\n",
    ")\n",
    "\n",
    "plt.show()"
   ]
  },
  {
   "cell_type": "code",
   "execution_count": null,
   "metadata": {},
   "outputs": [],
   "source": [
    "#Feature importance\n",
    "coef = models[0].coef_[0]\n",
    "\n",
    "\n",
    "\n",
    "np.sort(coef)\n",
    "\n",
    "feat_df = pd.DataFrame({'Feature Label': X.columns, 'Coefficient':coef})\n",
    "\n",
    "feat_df = feat_df.sort_values(by='Coefficient', ascending=False)\n",
    "\n",
    "\n",
    "feat_df.head()\n"
   ]
  },
  {
   "cell_type": "code",
   "execution_count": null,
   "metadata": {},
   "outputs": [],
   "source": [
    "#Bar Graph for Visualization\n",
    "\n",
    "feat_df.plot(kind='bar', x='Feature Label', y='Coefficient', title='Feature Coefficients')\n"
   ]
  }
 ],
 "metadata": {
  "kernelspec": {
   "display_name": "Python 3",
   "language": "python",
   "name": "python3"
  },
  "language_info": {
   "codemirror_mode": {
    "name": "ipython",
    "version": 3
   },
   "file_extension": ".py",
   "mimetype": "text/x-python",
   "name": "python",
   "nbconvert_exporter": "python",
   "pygments_lexer": "ipython3",
   "version": "3.12.0"
  }
 },
 "nbformat": 4,
 "nbformat_minor": 2
}
